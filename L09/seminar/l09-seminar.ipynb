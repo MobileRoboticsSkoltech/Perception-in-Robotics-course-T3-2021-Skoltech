{
 "cells": [
  {
   "cell_type": "code",
   "execution_count": null,
   "metadata": {},
   "outputs": [],
   "source": [
    "import numpy as np\n",
    "import cv2 as cv\n",
    "import matplotlib.pyplot as plt"
   ]
  },
  {
   "cell_type": "code",
   "execution_count": null,
   "metadata": {},
   "outputs": [],
   "source": [
    "def to_cv_image(image):\n",
    "    image = (image.transpose(1, 2, 0) * 255).astype(np.uint8)\n",
    "    return image\n",
    "\n",
    "def to_cv_kp(kp):\n",
    "    return list(map(lambda x: cv.KeyPoint(x[1], x[0], 0), kp))\n",
    "\n",
    "def draw_cv_kp(image, kp, color=(0, 255, 0)):\n",
    "    return cv.drawKeypoints(image, kp, None, color=color)\n",
    "\n",
    "\n",
    "def to_cv_dmatch(match_indices):\n",
    "    return list(map(lambda x: cv.DMatch(x[0], x[1], 0, 0), zip(np.arange(0, len(match_indices)), match_indices)))\n",
    "\n",
    "\n",
    "def draw_cv_matches(image1, image2, kp1, kp2, match_indices, match_mask, match_color=(0, 255, 0), single_point_color=(255, 0, 0)):\n",
    "    cv_match_indices = to_cv_dmatch(match_indices)\n",
    "    \n",
    "    return cv.drawMatches(image1, kp1, image2, kp2, cv_match_indices, None, \n",
    "                          matchColor=match_color, \n",
    "                          singlePointColor=single_point_color, matchesMask=match_mask.tolist())\n"
   ]
  },
  {
   "cell_type": "code",
   "execution_count": null,
   "metadata": {},
   "outputs": [],
   "source": [
    "def plot_figures(figures, nrows=1, ncols=1, size=(18, 18)):\n",
    "    \"\"\"Plot a dictionary of figures.\n",
    "\n",
    "    Parameters\n",
    "    ----------\n",
    "    figures : <title, figure> dictionary\n",
    "    ncols : number of columns of subplots wanted in the display\n",
    "    nrows : number of rows of subplots wanted in the figure\n",
    "    \"\"\"\n",
    "\n",
    "    fig, axes_list = plt.subplots(ncols=ncols, nrows=nrows, figsize=size)\n",
    "    for ind, title in zip(range(len(figures)), figures):\n",
    "        if nrows * ncols != 1:\n",
    "            axes_list.ravel()[ind].imshow(figures[title], cmap='gray')\n",
    "            axes_list.ravel()[ind].set_title(title)\n",
    "            axes_list.ravel()[ind].set_axis_off()\n",
    "        else:\n",
    "            axes_list.imshow(figures[title], cmap='gray')\n",
    "            axes_list.set_title(title)\n",
    "            axes_list.set_axis_off()\n",
    "\n",
    "    plt.tight_layout()  # optional"
   ]
  },
  {
   "cell_type": "markdown",
   "metadata": {},
   "source": [
    "## Load the data and visualize them"
   ]
  },
  {
   "cell_type": "code",
   "execution_count": null,
   "metadata": {},
   "outputs": [],
   "source": [
    "seminar_data = np.load('seminar_data.npy', allow_pickle=True).item()\n",
    "\n",
    "image1 = to_cv_image(seminar_data['image1'][0])\n",
    "image2 = to_cv_image(seminar_data['image2'][0])\n",
    "\n",
    "kp1 = to_cv_kp(seminar_data['kp1'][0])\n",
    "kp2 = to_cv_kp(seminar_data['kp2'][0])\n",
    "\n",
    "kp1_desc = seminar_data['kp1_desc'][0]\n",
    "kp2_desc = seminar_data['kp2_desc'][0]\n"
   ]
  },
  {
   "cell_type": "code",
   "execution_count": null,
   "metadata": {},
   "outputs": [],
   "source": [
    "plot_figures({'image1': image1, 'image2': image2}, 1, 2)"
   ]
  },
  {
   "cell_type": "code",
   "execution_count": null,
   "metadata": {},
   "outputs": [],
   "source": [
    "plot_figures({'image1 keypoints': draw_cv_kp(image1, kp1), 'image2 keypoints': draw_cv_kp(image2, kp2)}, 1, 2)"
   ]
  },
  {
   "cell_type": "markdown",
   "metadata": {},
   "source": [
    "## 1. Descriptor based keypoints matching"
   ]
  },
  {
   "cell_type": "markdown",
   "metadata": {},
   "source": [
    "For each keypoint there is a vector of size 64 that contains its description. The matching of keypoints between images is usually done by <b>mutual nearest neighbour</b> matching of their descriptors. \n",
    "\n",
    "Lets assume that the measure of closeness between descriptors is the inverse cosine similarity: $dist(d^1_{i}, d^2_{j})=1 - cos(d^1_{i}, d^2_{j})$.\n",
    "\n",
    "For each descriptor $kp1\\_desc$ from the first image find:\n",
    "1) Whether it has a closest mutually matching it descriptor from the second image. Provide the results as an array of <b>N</b> elements with <b>True</b> if there is a match and <b>False</b> otherwise.\n",
    "\n",
    "2) The index of matching descriptor in the array $kp2\\_desc$. Provide the result as an array of <b>N</b> elements with indices of matching elements from $kp2\\_desc$. If a match doesn't exist the value can be arbitrary.\n",
    "\n"
   ]
  },
  {
   "cell_type": "code",
   "execution_count": null,
   "metadata": {},
   "outputs": [],
   "source": [
    "# Calculate inverse cosime similarity for all pairs\n",
    "inv_cos_sim = "
   ]
  },
  {
   "cell_type": "code",
   "execution_count": null,
   "metadata": {},
   "outputs": [],
   "source": [
    "# Calculate NN indices for each descriptor from the first image\n",
    "nn_ids1 = \n",
    "\n",
    "# Mask for those descriptors from image1 that have a match\n",
    "match_mask = "
   ]
  },
  {
   "cell_type": "code",
   "execution_count": null,
   "metadata": {},
   "outputs": [],
   "source": [
    "plot_figures({'image1 to image2 matches': draw_cv_matches(image1, image2, kp1, kp2, nn_ids1, match_mask)})"
   ]
  },
  {
   "cell_type": "markdown",
   "metadata": {},
   "source": [
    "## 2. Lowe ratio test"
   ]
  },
  {
   "cell_type": "markdown",
   "metadata": {},
   "source": [
    "Let $d_i$ be a descriptor from the first image, $d_j$ and $d_k$ be the closest and the second closest descriptors from the second image respectively. Lowe ratio test states that a match is a good one if $\\frac{dist(d_i, d_j)}{dist(d_i, d_k)} < L$ where $0 \\leq L \\leq 1$ is Lowe ratio.\n",
    "\n",
    "Assume $L = 0.9$, test each matching pair of $kp1\\_desc$ and $kp2\\_desc$ with Lowe ratio and leave only those pairs where the test <b>holds mutually</b> (i.e. perform ratio test for both $d_i$ and $d_j$ in a pair). Create Lowe ratio test mask with <b>N</b> elements and combine it with the match mask."
   ]
  },
  {
   "cell_type": "code",
   "execution_count": null,
   "metadata": {},
   "outputs": [],
   "source": [
    "lowe_ratio = 0.9"
   ]
  },
  {
   "cell_type": "code",
   "execution_count": null,
   "metadata": {},
   "outputs": [],
   "source": [
    "# TODO\n",
    "\n",
    "ratio_test_match_mask = "
   ]
  },
  {
   "cell_type": "code",
   "execution_count": null,
   "metadata": {},
   "outputs": [],
   "source": [
    "plot_figures({'Filtered image1 to image2 matches': draw_cv_matches(image1, image2, kp1, kp2, nn_ids1, ratio_test_match_mask)})"
   ]
  },
  {
   "cell_type": "code",
   "execution_count": null,
   "metadata": {},
   "outputs": [],
   "source": []
  }
 ],
 "metadata": {
  "kernelspec": {
   "display_name": "Python 3",
   "language": "python",
   "name": "python3"
  },
  "language_info": {
   "codemirror_mode": {
    "name": "ipython",
    "version": 3
   },
   "file_extension": ".py",
   "mimetype": "text/x-python",
   "name": "python",
   "nbconvert_exporter": "python",
   "pygments_lexer": "ipython3",
   "version": "3.7.9"
  }
 },
 "nbformat": 4,
 "nbformat_minor": 4
}
