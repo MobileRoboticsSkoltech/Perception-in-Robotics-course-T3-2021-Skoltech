{
 "cells": [
  {
   "cell_type": "markdown",
   "metadata": {},
   "source": [
    "# Kalman Filter Seminar\n",
    "Imagine that we want to estimate the translational velocity, $x_t$ , of a car by using the gas pedal, which provides information regarding the acceleration, $u_t$ , plus some noise, $\\epsilon_t$ . The propagation model is $x_t = x_{t−1} +\\Delta t·(u_t +\\epsilon_t )$, where $\\epsilon_t \\sim \\mathcal{N}(0,M)$, and covariance $M = 10$.\n",
    "\n",
    "All relevant data for this task is contained in the *t4* file.\n",
    "You may want to use numpy \\texttt{load} function.\n",
    "Some parameters are included there too, such as $\\Delta t = 0.1$, $x_0=0$, $\\Sigma_0 = 0$ (vehicle stopped)."
   ]
  },
  {
   "cell_type": "markdown",
   "metadata": {},
   "source": [
    "## 1) Open loop estimation\n",
    "Unfortunately for us, there is a difference between the controls that we have commanded and the controls that the car has actually executed. This uncertainty is expressed in the form of corrupted controls by the r.v. $\\epsilon_t$. Calculate the state trajectory of $x_t$ just by considering the noisy controls  $u_t+\\epsilon_t$ provided. Write the equations and plot the results, that is, $\\bar{\\mu}_t$ and $\\pm$1-sigma. Compare it to the real state $x_t$ of the velocity. Comment on the results.\n",
    "\n",
    "*Hint:* this a covariance projection problem. The noise should be projected too."
   ]
  },
  {
   "cell_type": "code",
   "execution_count": null,
   "metadata": {},
   "outputs": [],
   "source": [
    "import numpy as np\n",
    "from matplotlib import pyplot as plt\n",
    "%matplotlib inline\n",
    "from ciplot import ciplot\n",
    "data = np.load('data')\n",
    "print(data.files)"
   ]
  },
  {
   "cell_type": "code",
   "execution_count": null,
   "metadata": {},
   "outputs": [],
   "source": [
    "# Loading variables\n",
    "N = data['N']\n",
    "dt = data['dt']\n",
    "M = data['M']\n",
    "t = data['t']\n",
    "u = data['u'] #first action u[0] corresponds to the first propagation x[1] = x[0] + u[0]dt\n",
    "x_real = data['x_real']\n",
    "x_pred = np.zeros(N)\n",
    "P_pred = np.zeros(N)\n",
    "x_pred[0] = data['x_0']\n",
    "P_pred[0] = data['P_0']\n",
    "\n",
    "# TODO calculate the open loop prediction and covariance\n",
    "\n",
    "\n",
    "sigma = np.zeros(N)\n",
    "\n",
    "minus_sigma = x_pred - sigma\n",
    "plus_sigma = x_pred + sigma\n",
    "plt.figure(figsize=(14,8))\n",
    "handles = ciplot(t, x_pred, minus_sigma, plus_sigma, x_real)\n",
    "\n",
    "\n",
    "plt.title('Direct Integration of Controls')\n",
    "plt.legend(handles, ['Estimated x', 'Ground Truth'])\n",
    "plt.xlabel('Time')\n",
    "plt.ylabel('Translational Velocity')\n",
    "plt.show()"
   ]
  },
  {
   "cell_type": "markdown",
   "metadata": {},
   "source": [
    "## 2) Adding observations\n",
    "In order to circumvent the drifting issue, we need to observe our state $x_t$. Our observations are the integration over a time step of an accelerometer *perfectly* aligned with the car's translation direction. The observation model $z_t = x_t + \\delta_t$, where $\\delta_t \\sim \\mathcal{N}(0,Q)$, being $Q = 5$. Plot the raw observations and compare them with the real state $x_t$."
   ]
  },
  {
   "cell_type": "code",
   "execution_count": null,
   "metadata": {},
   "outputs": [],
   "source": [
    "z = data['z']\n",
    "plt.figure(figsize=(14,8))\n",
    "\n",
    "# Plot observations. Time index of z[0] corresponds to x[1]\n",
    "\n",
    "plt.title('Raw Observations')\n",
    "\n",
    "plt.xlabel('Time')\n",
    "plt.ylabel('Translational Velocity')\n",
    "plt.show()"
   ]
  },
  {
   "cell_type": "markdown",
   "metadata": {},
   "source": [
    "## KF integration\n",
    "Implement the Kalman filter for a recursive state estimation of $x_t$ corresponding to the car's velocity. Plot the output of the algorithm $bel(x_t)$ as well as its $\\pm$1,3-sigma."
   ]
  },
  {
   "cell_type": "code",
   "execution_count": null,
   "metadata": {},
   "outputs": [],
   "source": [
    "x = np.zeros(N)\n",
    "P = np.zeros(N)\n",
    "x_pred = np.zeros(N)\n",
    "P_pred = np.zeros(N)\n",
    "\n",
    "\n",
    "# Implement the KF operations for 1d\n",
    "\n",
    "sigma = np.zeros(N)\n",
    "\n",
    "handles = list()\n",
    "minus_sigma = x_pred - sigma\n",
    "plus_sigma = x_pred + sigma\n",
    "plt.figure(figsize=(14,8))\n",
    "handles.extend(ciplot(t, x_pred, minus_sigma, plus_sigma, x_real))\n",
    "\n",
    "three_sigma = 3 * sigma\n",
    "minus_sigma = x_pred - three_sigma\n",
    "plus_sigma = x_pred + three_sigma\n",
    "handles.extend(ciplot(t, x_pred, minus_sigma, plus_sigma, x_real))\n",
    "\n",
    "plt.title('Kalman Filter Estimation')\n",
    "plt.legend(handles, ['Estimated x', 'Ground Truth'])\n",
    "plt.xlabel('Time')\n",
    "plt.ylabel('Translational Velocity')\n",
    "plt.show()"
   ]
  },
  {
   "cell_type": "code",
   "execution_count": null,
   "metadata": {},
   "outputs": [],
   "source": []
  }
 ],
 "metadata": {
  "kernelspec": {
   "display_name": "Python 3",
   "language": "python",
   "name": "python3"
  },
  "language_info": {
   "codemirror_mode": {
    "name": "ipython",
    "version": 3
   },
   "file_extension": ".py",
   "mimetype": "text/x-python",
   "name": "python",
   "nbconvert_exporter": "python",
   "pygments_lexer": "ipython3",
   "version": "3.6.9"
  }
 },
 "nbformat": 4,
 "nbformat_minor": 4
}
