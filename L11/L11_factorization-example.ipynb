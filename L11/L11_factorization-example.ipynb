{
 "cells": [
  {
   "cell_type": "markdown",
   "metadata": {},
   "source": [
    "# L11: sqrt SAM, Factorization Example\n",
    "In this notebook we will create a toy example for a Factor Graph via its adjacency matrix and different factorizations"
   ]
  },
  {
   "cell_type": "code",
   "execution_count": null,
   "metadata": {},
   "outputs": [],
   "source": [
    "%matplotlib inline\n",
    "import numpy as np\n",
    "import matplotlib.pyplot as plt\n",
    "import scipy.linalg as la"
   ]
  },
  {
   "cell_type": "markdown",
   "metadata": {},
   "source": [
    "1) The first step is to create a random adjacency matrix $A$ and the residual vector $b$ such that $Ax=b$ and the normal equation from the adjacency matrix $A$, $\\Lambda = A^{\\top}A$"
   ]
  },
  {
   "cell_type": "code",
   "execution_count": null,
   "metadata": {},
   "outputs": [],
   "source": [
    "N = 50 #number of poses\n",
    "M = N  #number of landmarks\n",
    "num_z = np.random.randint(1,4*round(N/M), M)\n",
    "A = np.zeros((np.sum(num_z)+N,N+M))\n",
    "# Odometry chain: 1D-Jacobians are random noise at selected points, keeping the A structure\n",
    "A[0,0] = np.random.rand()\n",
    "for t in range(1,N):\n",
    "    A[t,t] = np.random.rand()\n",
    "    A[t,t-1] = np.random.rand()\n",
    "# Landmark observations\n",
    "index_k = 0\n",
    "k_z = np.random.permutation(M)\n",
    "for t in range(1,N):\n",
    "    for i in range(num_z[t]):\n",
    "        A[N + index_k + i , t] = np.random.rand()\n",
    "        A[N + index_k + i , N + k_z[(index_k+i)%M] ] = np.random.rand()\n",
    "    index_k += num_z[t]\n",
    "plt.figure(1)\n",
    "plt.spy(A, marker='o', markersize=5)\n",
    "plt.title('Adjacency matrix $A$')\n",
    "display('non zero elements in A = ',np.count_nonzero(A))\n",
    "plt.figure(2)\n",
    "Lambda = np.transpose(A) @ A # + np.eye(N+M)*0.001\n",
    "plt.spy(Lambda, marker='o', markersize=5)\n",
    "plt.title('Information matrix $\\Lambda$')\n",
    "plt.figure(3)\n",
    "plt.spy(np.linalg.inv(Lambda), marker='o', markersize=5)\n",
    "plt.title('Inverse of $\\Lambda$: dense')\n",
    "plt.show()"
   ]
  },
  {
   "cell_type": "markdown",
   "metadata": {},
   "source": [
    "## Raw Cholesky factorization $\\Lambda = A^{\\top}A$ and $R = Cholesky(\\Lambda)$"
   ]
  },
  {
   "cell_type": "code",
   "execution_count": null,
   "metadata": {},
   "outputs": [],
   "source": [
    "R = la.cholesky(Lambda, lower=False)\n",
    "plt.figure(4)\n",
    "plt.spy(R,marker='o', markersize=5)\n",
    "plt.title('Cholesky matrix R, factorzing $\\Lambda = R^{T}R$')\n",
    "plt.show()\n",
    "np.count_nonzero(R)"
   ]
  },
  {
   "cell_type": "markdown",
   "metadata": {},
   "source": [
    "## Raw QR factorization $A = QR$"
   ]
  },
  {
   "cell_type": "code",
   "execution_count": null,
   "metadata": {},
   "outputs": [],
   "source": [
    "Q, R_ = la.qr(A,mode='full')\n",
    "plt.figure(5)\n",
    "plt.spy(R_,marker='o', markersize=5)\n",
    "plt.title('QR factorzation matrix R, factorzing $A = QR$')\n",
    "plt.show()\n",
    "np.count_nonzero(R_)"
   ]
  },
  {
   "cell_type": "markdown",
   "metadata": {},
   "source": [
    "## Raw Schur complement $M^{-1} = \\Lambda_x - \\Lambda_{x,m} \\Lambda_m^{-1} \\Lambda_{m,x}$"
   ]
  },
  {
   "cell_type": "code",
   "execution_count": null,
   "metadata": {},
   "outputs": [],
   "source": [
    "L_x = Lambda[:N,:N]\n",
    "L_xm = Lambda[:N, N:]\n",
    "L_mx = np.transpose(L_xm)\n",
    "L_m = Lambda[N:,N:]\n",
    "Sch = L_x - L_xm @ np.linalg.inv(L_m) @ L_mx #the inversion could be more efficient since it is diagonal\n",
    "plt.figure()\n",
    "plt.spy(Lambda, marker='o', markersize=5)\n",
    "plt.title('Information matrix $\\Lambda$')\n",
    "plt.figure()\n",
    "plt.spy(Sch,marker='o', markersize=5)\n",
    "plt.title('Schur complement of $\\Lambda$')\n",
    "R_1 = la.cholesky(Sch, lower=False)\n",
    "plt.figure()\n",
    "plt.spy(R_1,marker='o', markersize=5)\n",
    "plt.show()\n",
    "np.count_nonzero(R_1)"
   ]
  },
  {
   "cell_type": "markdown",
   "metadata": {},
   "source": [
    "## Reordering Cholesky factorization\n",
    "In Python, scikit-sparse cholmod does this for you automatically. For this example I will use a matrix permutation direcltly ordering number of components. Still we should get less fill-ins on the resultant matrices R"
   ]
  },
  {
   "cell_type": "code",
   "execution_count": null,
   "metadata": {},
   "outputs": [],
   "source": [
    "def colperm(A):\n",
    "    \"Column permutation by minimum number of elements\"\n",
    "    S = np.count_nonzero(A,axis=0)\n",
    "    P = np.argsort(S)\n",
    "    return P"
   ]
  },
  {
   "cell_type": "code",
   "execution_count": null,
   "metadata": {},
   "outputs": [],
   "source": [
    "P = colperm(A)\n",
    "A_o = A[:,P]\n",
    "plt.figure()\n",
    "Lambda_o = np.transpose(A_o) @ A_o\n",
    "plt.spy(Lambda_o,marker='o', markersize=5)\n",
    "plt.title('Information matrix reordered $\\Lambda[P,P]$')\n",
    "plt.figure()\n",
    "R_o = la.cholesky(Lambda_o, lower=False)\n",
    "plt.spy(R_o,marker='o', markersize=5)\n",
    "plt.show()\n",
    "np.count_nonzero(R_o)"
   ]
  },
  {
   "cell_type": "markdown",
   "metadata": {},
   "source": [
    "## Reordering the QR factorization"
   ]
  },
  {
   "cell_type": "code",
   "execution_count": null,
   "metadata": {},
   "outputs": [],
   "source": [
    "plt.figure()\n",
    "plt.spy(A_o,marker='o', markersize=5)\n",
    "plt.title('Permuted Adjacency matrix $A[:,P]$')\n",
    "Q, R_o_ = la.qr(A_o,mode='full')\n",
    "plt.figure()\n",
    "plt.spy(R_o_,marker='o', markersize=5)\n",
    "plt.title('QR factorzation ordered')\n",
    "plt.show()\n",
    "np.count_nonzero(R_o_)"
   ]
  },
  {
   "cell_type": "markdown",
   "metadata": {},
   "source": [
    "## Reordering Schur complement"
   ]
  },
  {
   "cell_type": "code",
   "execution_count": null,
   "metadata": {},
   "outputs": [],
   "source": [
    "plt.figure()\n",
    "plt.spy(Sch,marker='o', markersize=5)\n",
    "plt.figure()\n",
    "P_s = colperm(Sch)\n",
    "#Sch_o = Sch[P_s,P_s] #TODO this doesnt work\n",
    "Sch_oi = Sch[:,P_s]\n",
    "Sch_o = Sch_oi[P_s,:]\n",
    "plt.spy(Sch_o, marker='o', markersize=5)\n",
    "Sch_o.size\n",
    "R_1_o = la.cholesky(Sch_o, lower=False)\n",
    "plt.figure()\n",
    "plt.spy(R_1_o,marker='o', markersize=5)\n",
    "plt.show()\n",
    "np.count_nonzero(R_1_o)"
   ]
  },
  {
   "cell_type": "code",
   "execution_count": null,
   "metadata": {},
   "outputs": [],
   "source": []
  }
 ],
 "metadata": {
  "kernelspec": {
   "display_name": "Python 3",
   "language": "python",
   "name": "python3"
  },
  "language_info": {
   "codemirror_mode": {
    "name": "ipython",
    "version": 3
   },
   "file_extension": ".py",
   "mimetype": "text/x-python",
   "name": "python",
   "nbconvert_exporter": "python",
   "pygments_lexer": "ipython3",
   "version": "3.6.9"
  }
 },
 "nbformat": 4,
 "nbformat_minor": 2
}
