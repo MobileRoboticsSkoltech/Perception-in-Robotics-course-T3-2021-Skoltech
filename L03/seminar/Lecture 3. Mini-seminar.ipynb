{
 "cells": [
  {
   "cell_type": "code",
   "execution_count": null,
   "metadata": {},
   "outputs": [],
   "source": [
    "import numpy as np\n",
    "import matplotlib.pyplot as plt\n",
    "\n",
    "from matplotlib.patches import Wedge"
   ]
  },
  {
   "cell_type": "markdown",
   "metadata": {},
   "source": [
    "## Task 1"
   ]
  },
  {
   "cell_type": "markdown",
   "metadata": {},
   "source": [
    "Suppose that the trajectory of a robot can be described by a vector $p_i=\\begin{bmatrix}{p_x}_i \\\\ {p_y}_i\\end{bmatrix}$ which is a location of the robot and a sclar $\\theta_i$ which is its heading (in radians)."
   ]
  },
  {
   "cell_type": "markdown",
   "metadata": {},
   "source": [
    "<img src=\"heading.png\" width=\"480\" height=\"360\">"
   ]
  },
  {
   "cell_type": "markdown",
   "metadata": {},
   "source": [
    "While the data from a robot were read some errors occurred. Due to that, the heading values were lost and the positions of the robot are slightly off. Luckily, we've managed to recover errors in positioning, but the exact orientations are still unknown.\n",
    "Some residual data suggest that heading values are distributed normally that is defined by PDF with the following mean and covariance as well as depend on errors in positioning:\n",
    "\n",
    "$$\\begin{bmatrix}s_1 \\\\ s_2 \\\\ s_3 \\\\ s_4 \\\\ s_5\\end{bmatrix} \\sim \\mathcal{N}\\Bigg(\\begin{bmatrix}\\mu_{s_1} \\\\ \\mu_{s_2} \\\\ \\mu_{s_3} \\\\ \\mu_{s_4} \\\\ \\mu_{s_5} \\end{bmatrix}, \\begin{bmatrix}\\Sigma_{s_1} & 0 & 0 & 0 & 0 \\\\ 0 & \\Sigma_{s_2} & 0 & 0 & 0 \\\\ 0 & 0  & \\Sigma_{s_3} & 0 & 0 \\\\ 0 & 0 & 0  & \\Sigma_{s_4} & 0  \\\\ 0 & 0 & 0 & 0 &\\Sigma_{s_5} \\end{bmatrix} \\Bigg)$$\n",
    "\n",
    "Where $s_i = \\begin{bmatrix}dx_i \\\\ dy_i \\\\ \\theta_i\\end{bmatrix}$, $\\mu_{s_i}=\\begin{bmatrix}0 \\\\ 0 \\\\ {\\mu_\\theta}_i\\end{bmatrix}$ and $\\Sigma_{s_i} = \\begin{bmatrix}0.3 & 0 & 0.1 \\\\ 0 & 0.2 & 0.2 \\\\ 0.1 & 0.2 & 0.5  \\end{bmatrix}$"
   ]
  },
  {
   "cell_type": "code",
   "execution_count": null,
   "metadata": {},
   "outputs": [],
   "source": [
    "cov = np.array([[0.3, 0, 0.1],\n",
    "                [0, 0.2, 0.2],\n",
    "                [0.1, 0.2, 0.5]])"
   ]
  },
  {
   "cell_type": "markdown",
   "metadata": {},
   "source": [
    "# 1.1\n",
    "Knowing positions of the robot with errors (variable $robot\\_positions$) and mean heading values ${\\mu_\\theta}_i$ for each position (variable $mu\\_theta$) we want to estimate the uncertainty of our guess about heading values by $\\textbf{marginalizing}$ it out of the PDF. Calculate 1-sigma of the PDF (store it in the variable $sigma\\_theta\\_m$ as a column vector of size $n \\times 1$) and plot the 1-sigma sector using the code provided below"
   ]
  },
  {
   "cell_type": "code",
   "execution_count": null,
   "metadata": {},
   "outputs": [],
   "source": [
    "robot_positions = np.array([[2, 1],\n",
    "                            [4, 3],\n",
    "                            [6, -1],\n",
    "                            [8, 1.5],\n",
    "                            [10, -0.5]])\n",
    "\n",
    "# Mean headings in radians\n",
    "mu_theta = np.array([[np.pi / 4 - np.pi / 16],\n",
    "                     [-np.pi / 4 - 2 * np.pi / 16],\n",
    "                     [np.pi / 4 + 2.7 * np.pi / 16],\n",
    "                     [-np.pi / 2 + 0.4 * np.pi / 16],\n",
    "                     [0]])"
   ]
  },
  {
   "cell_type": "code",
   "execution_count": null,
   "metadata": {},
   "outputs": [],
   "source": [
    "# Calculate the marginal PDF of theta and get 1-sigma of the bearings guess for each position\n",
    "\n",
    "# TODO. Change that line\n",
    "sigma_theta_m = abs(np.random.randn(5, 1))"
   ]
  },
  {
   "cell_type": "code",
   "execution_count": null,
   "metadata": {},
   "outputs": [],
   "source": [
    "def plot_headings(_ax, positions, _mu_theta, sigma1, color):\n",
    "    _mu_theta = np.rad2deg(_mu_theta)\n",
    "    sigma1 = np.rad2deg(sigma1)\n",
    "    \n",
    "    for pos, mu, sigma in zip(positions, _mu_theta, sigma1):\n",
    "        sec_start = mu - sigma\n",
    "        sec_end = mu + sigma\n",
    "        \n",
    "        mu_rad = np.deg2rad(mu)\n",
    "        heading = np.concatenate([np.cos(mu_rad), np.sin(mu_rad)], axis=0)[None] * 0.5\n",
    "        heading = np.concatenate([pos[None], pos[None] + heading], axis=0)\n",
    "        \n",
    "        _ax.plot(heading[:, 0], heading[:, 1], color='black', alpha=0.8)\n",
    "        _ax.add_artist(Wedge(pos, 0.5, sec_start[0], sec_end[0], color=color, alpha=0.6))\n"
   ]
  },
  {
   "cell_type": "code",
   "execution_count": null,
   "metadata": {},
   "outputs": [],
   "source": [
    "fig = plt.figure(figsize=(14, 9))\n",
    "\n",
    "ax = fig.add_subplot(1, 1, 1, aspect='equal')\n",
    "\n",
    "ax.set_ylim(-2, 3.5)\n",
    "ax.set_xlim(1.5, 11)\n",
    "ax.set_xlabel('x', fontsize=18)\n",
    "ax.set_ylabel('y', fontsize=18)\n",
    "\n",
    "\n",
    "ax.plot(robot_positions[:, 0], robot_positions[:, 1], \n",
    "        color=\"indigo\",\n",
    "        marker='D', markersize=10, markerfacecolor='orange', markeredgewidth=1.0, markeredgecolor=(0, 0, 0, 1))\n",
    "plot_headings(ax, robot_positions, mu_theta, sigma_theta_m, 'red')\n",
    "\n",
    "plt.show()"
   ]
  },
  {
   "cell_type": "markdown",
   "metadata": {},
   "source": [
    "# 1.2\n",
    "Now, we want to correct robot's positions using recovered data (variable $positions\\_err$) as well as our guess on the headigns 1-sigma estimate by utilizing the fact that we know $dx_i$ and $dy_i$. $\\textbf{Condition}$ $\\theta_i$ of PDF $\\textbf{on}$ $dx_i$ and $dy_i$ and use their values to recalculate mean and covariance of $p(\\theta_i|x_i, y_i)$. Plot the updated robot trajectory and 1-sigma sector next to the old one in is same manner as in 2.1."
   ]
  },
  {
   "cell_type": "code",
   "execution_count": null,
   "metadata": {},
   "outputs": [],
   "source": [
    "dx = np.array([[-0.1931705 ],\n",
    "               [ 0.1224564 ],\n",
    "               [-0.11136686],\n",
    "               [ 0.28472354],\n",
    "               [-0.29425286]])\n",
    "\n",
    "dy = np.array([[ 0.16510238],\n",
    "               [-0.00937599],\n",
    "               [-0.3699997 ],\n",
    "               [ 0.3970382 ],\n",
    "               [ 0.08117404]])\n"
   ]
  },
  {
   "cell_type": "code",
   "execution_count": null,
   "metadata": {},
   "outputs": [],
   "source": [
    "# TODO. Change theses lines\n",
    "\n",
    "new_robot_positions = \n",
    "new_mu_theta = \n",
    "sigma_theta_c = "
   ]
  },
  {
   "cell_type": "code",
   "execution_count": null,
   "metadata": {},
   "outputs": [],
   "source": [
    "fig2 = plt.figure(figsize=(14, 9))\n",
    "\n",
    "ax2 = fig2.add_subplot(1, 1, 1, aspect='equal')\n",
    "\n",
    "ax2.set_ylim(-2, 3.5)\n",
    "ax2.set_xlim(1.5, 11)\n",
    "ax2.set_xlabel('x', fontsize=18)\n",
    "ax2.set_ylabel('y', fontsize=18)\n",
    "\n",
    "\n",
    "ax2.plot(robot_positions[:, 0], robot_positions[:, 1], \n",
    "         color=\"indigo\",\n",
    "         marker='D', markersize=10, markerfacecolor='orange', markeredgewidth=1.0, markeredgecolor=(0, 0, 0, 1))\n",
    "plot_headings(ax2, robot_positions, mu_theta, sigma_theta_m, 'red')\n",
    "        \n",
    "ax2.plot(new_robot_positions[:, 0], new_robot_positions[:, 1], \n",
    "         color=\"darkgreen\",\n",
    "         marker='X', markersize=10, markerfacecolor='green', markeredgewidth=1.0, markeredgecolor=(0, 0, 0, 1))\n",
    "plot_headings(ax2, new_robot_positions, new_mu_theta, sigma_theta_c, 'purple')\n",
    "\n",
    "plt.show()"
   ]
  },
  {
   "cell_type": "markdown",
   "metadata": {},
   "source": [
    "<b>Question:</b> If cross-correlation terms are zero then will the conditioning have any effect on the variable for which conditioning is performed?"
   ]
  },
  {
   "cell_type": "markdown",
   "metadata": {},
   "source": [
    "## Task 2\n",
    "Prove block martix inversion formula:\n",
    "\n",
    "$$\\begin{bmatrix}A & B \\\\ C & D\\end{bmatrix}^{-1} = \\begin{bmatrix}A^{-1} + A^{-1}B(D - CA^{-1}B)^{-1}CA^{-1} & -A^{-1}B(D - CA^{-1}B)^{-1} \\\\ -(D - CA^{-1}B)^{-1}CA^{-1} & (D - CA^{-1}B)^{-1}\\end{bmatrix}$$\n",
    "\n",
    "Make use of the following equalities:\n",
    "\n",
    "* If $A=\\begin{bmatrix}A_{11} & A_{12} \\\\ 0 & A_{22} \\end{bmatrix}$, then $A^{-1}=\\begin{bmatrix}A_{11}^{-1} & -A_{11}^{-1}A_{12}A_{22}^{-1} \\\\ 0 & A_{22}^{-1} \\end{bmatrix}$. The same holds for lower triangular matrix.\n",
    "\n",
    "* $(AB)^{-1}=B^{-1}A^{-1}$\n",
    "* $M/D = A - BD^{-1}C$ (Schur complement), where $M=\\begin{bmatrix}A & B \\\\ C & D\\end{bmatrix}$\n",
    "\n",
    "**Hint:** factorize the matrix into two triangular matrices. Try to form Schur complement on one of the diagonal elements.\n"
   ]
  },
  {
   "cell_type": "code",
   "execution_count": null,
   "metadata": {},
   "outputs": [],
   "source": []
  }
 ],
 "metadata": {
  "kernelspec": {
   "display_name": "Python 3",
   "language": "python",
   "name": "python3"
  },
  "language_info": {
   "codemirror_mode": {
    "name": "ipython",
    "version": 3
   },
   "file_extension": ".py",
   "mimetype": "text/x-python",
   "name": "python",
   "nbconvert_exporter": "python",
   "pygments_lexer": "ipython3",
   "version": "3.7.9"
  }
 },
 "nbformat": 4,
 "nbformat_minor": 4
}
