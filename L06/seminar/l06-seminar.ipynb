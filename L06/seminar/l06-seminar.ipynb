{
 "cells": [
  {
   "cell_type": "code",
   "execution_count": null,
   "metadata": {},
   "outputs": [],
   "source": [
    "import numpy as np\n",
    "import matplotlib.pyplot as plt"
   ]
  },
  {
   "cell_type": "markdown",
   "metadata": {},
   "source": [
    "The temperature in the room $c_t$ is controlled by a heater. It changes the temperature according to the following rule: $0.1*cos(\\alpha t)*u_t^2$. Unfortunately, it is malfunctioning and the controls $u_t = \\overline{u}_t + \\eta_t$ it exerts are slightly off where $\\eta_t \\sim \\mathcal{N}(0, M)$. Likewise, the temperature deviates from time to time due to the presence of air flows that is modelled by the noise $\\epsilon_t \\sim \\mathcal{N}(0, N)$. The estimated temperature at the moment of time $t$ can be written as follows:\n",
    "\n",
    "$$c_t = g(c_{t-1}, u_t) = c_{t-1} + \\Delta t * 0.1 * cos(\\alpha t) * u_t^2 + \\epsilon_t$$\n",
    "\n",
    "Let $\\alpha=0.1$, $c_0 = 18$, $\\Sigma_0=0$, $\\Delta t=0.3$, $M=3$ and $N=0.2$."
   ]
  },
  {
   "cell_type": "code",
   "execution_count": null,
   "metadata": {},
   "outputs": [],
   "source": [
    "alpha = 0.1\n",
    "\n",
    "c_0 = 18\n",
    "sigma_0 = 0\n",
    "\n",
    "dt = 0.3\n",
    "\n",
    "n = 400\n",
    "\n",
    "M = 3\n",
    "N = 0.2"
   ]
  },
  {
   "cell_type": "code",
   "execution_count": null,
   "metadata": {},
   "outputs": [],
   "source": [
    "np.random.seed(904)\n",
    "\n",
    "t = np.arange(n)\n",
    "\n",
    "# Actual executed commands: mean_u + eta\n",
    "u = np.random.randint(1, 4, (len(t) - 1)).astype(np.float32)\n",
    "# Commands that were intended to be executed: mean_u\n",
    "mean_u = u - np.random.randn(len(t) - 1) * np.sqrt(M)"
   ]
  },
  {
   "cell_type": "code",
   "execution_count": null,
   "metadata": {},
   "outputs": [],
   "source": [
    "# Actual temperature\n",
    "c = [c_0]\n",
    "\n",
    "for t_t, u_t in zip(t[1:], u):\n",
    "    c_t = c[-1] + dt * 0.1 * np.cos(alpha * t_t) * u_t**2\n",
    "    c.append(c_t)\n",
    "\n",
    "c = np.array(c)"
   ]
  },
  {
   "cell_type": "markdown",
   "metadata": {},
   "source": [
    "## Task 1\n",
    "Calculate $G_t=\\frac{dg(c_{t-1}, u_t)}{dc_{t-1}}\\Big|_{\\mu_{t-1}}$ and $V_t=\\frac{dg(c_{t-1}, u_t)}{du_{t}}\\Big|_{\\overline{u}_t}$ and perform mean and covariance propagation. Plot the guess on mean values and covariance estimates as 1-sigma interval for each step.\n"
   ]
  },
  {
   "cell_type": "code",
   "execution_count": null,
   "metadata": {},
   "outputs": [],
   "source": [
    "mean_c = [c_0]\n",
    "cov_c = [sigma_0]"
   ]
  },
  {
   "cell_type": "code",
   "execution_count": null,
   "metadata": {},
   "outputs": [],
   "source": [
    "# TODO. Your code here\n",
    "\n",
    "mean_c = \n",
    "sigma1_c = "
   ]
  },
  {
   "cell_type": "code",
   "execution_count": null,
   "metadata": {},
   "outputs": [],
   "source": [
    "fig = plt.figure(figsize=(14, 9))\n",
    "ax = fig.add_subplot(1, 1, 1)\n",
    "\n",
    "ax.set_xlabel('Time', fontsize=18)\n",
    "ax.set_ylabel('Temperature', fontsize=18)\n",
    "\n",
    "ax.plot(t, c, linewidth=2, label='Actual temperature')\n",
    "ax.plot(t, mean_c, linewidth=2, label='Predicted temperature')\n",
    "ax.fill_between(t, (mean_c - sigma1_c), (mean_c + sigma1_c), color='orange', alpha=.15)\n",
    "\n",
    "plt.legend()"
   ]
  },
  {
   "cell_type": "markdown",
   "metadata": {},
   "source": [
    "Now, lets assume that we can measure the temperature in the room by using a sensor. The sensor procudes the following observation $z_t = h(x_t) = 2\\sqrt{x_t} + \\nu_t$ where $\\nu \\sim \\mathcal{N}(0, R)$ and $R = 0.1$."
   ]
  },
  {
   "cell_type": "code",
   "execution_count": null,
   "metadata": {},
   "outputs": [],
   "source": [
    "np.random.seed(1)\n",
    "\n",
    "R = 0.1\n",
    "\n",
    "z_noise = np.random.randn(len(t) - 1) * np.sqrt(R)\n",
    "z = 2 * np.sqrt(c[1:]) + z_noise"
   ]
  },
  {
   "cell_type": "code",
   "execution_count": null,
   "metadata": {},
   "outputs": [],
   "source": [
    "fig = plt.figure(figsize=(14, 9))\n",
    "ax = fig.add_subplot(1, 1, 1)\n",
    "\n",
    "ax.set_xlabel('Time', fontsize=18)\n",
    "ax.set_ylabel('Temperature', fontsize=18)\n",
    "\n",
    "ax.plot(t, c, linewidth=2, label='Actual temperature')\n",
    "ax.scatter(t[1:], z ** 2 / 4, color='red', label='Observed temperature')\n",
    "\n",
    "plt.legend()\n"
   ]
  },
  {
   "cell_type": "markdown",
   "metadata": {},
   "source": [
    "## Task 2"
   ]
  },
  {
   "cell_type": "markdown",
   "metadata": {},
   "source": [
    "Calculate $H_t=\\frac{dh(x_t)}{dx_t}\\Big|_{\\mu_t}$ and using the implementation of prediction step from the previous taks finish the implementation of EKF by implementing the update step. Plot mean and covariance 1-sigma and 3-sigma intervals outputed by the algorithm on each step."
   ]
  },
  {
   "cell_type": "code",
   "execution_count": null,
   "metadata": {},
   "outputs": [],
   "source": [
    "mean_c = [c_0]\n",
    "cov_c = [sigma_0]"
   ]
  },
  {
   "cell_type": "code",
   "execution_count": null,
   "metadata": {},
   "outputs": [],
   "source": [
    "mean_c = \n",
    "sigma1_c = "
   ]
  },
  {
   "cell_type": "code",
   "execution_count": null,
   "metadata": {},
   "outputs": [],
   "source": [
    "fig = plt.figure(figsize=(14, 9))\n",
    "ax = fig.add_subplot(1, 1, 1)\n",
    "\n",
    "ax.set_xlabel('Time', fontsize=18)\n",
    "ax.set_ylabel('Temperature', fontsize=18)\n",
    "\n",
    "ax.plot(t, c, linewidth=2, label='Actual temperature')\n",
    "ax.plot(t, mean_c, linewidth=2, label='Predicted temperature (EKF)')\n",
    "ax.fill_between(t, (mean_c - sigma1_c), (mean_c + sigma1_c), color='orange', alpha=.25)\n",
    "ax.fill_between(t, (mean_c - 3 * sigma1_c), (mean_c + 3 * sigma1_c), color='red', alpha=.05)\n",
    "\n",
    "plt.legend()"
   ]
  },
  {
   "cell_type": "code",
   "execution_count": null,
   "metadata": {},
   "outputs": [],
   "source": []
  }
 ],
 "metadata": {
  "kernelspec": {
   "display_name": "Python 3",
   "language": "python",
   "name": "python3"
  },
  "language_info": {
   "codemirror_mode": {
    "name": "ipython",
    "version": 3
   },
   "file_extension": ".py",
   "mimetype": "text/x-python",
   "name": "python",
   "nbconvert_exporter": "python",
   "pygments_lexer": "ipython3",
   "version": "3.7.9"
  }
 },
 "nbformat": 4,
 "nbformat_minor": 4
}
