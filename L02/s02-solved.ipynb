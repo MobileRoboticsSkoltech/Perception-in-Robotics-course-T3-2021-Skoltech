{
 "cells": [
  {
   "cell_type": "code",
   "execution_count": 1,
   "metadata": {},
   "outputs": [],
   "source": [
    "# Import libraries\n",
    "import numpy as np\n",
    "import matplotlib.pyplot as plt\n",
    "from scipy.stats import norm\n",
    "from scipy.spatial import distance"
   ]
  },
  {
   "cell_type": "markdown",
   "metadata": {},
   "source": [
    "# I. Sample mean and sample covariance\n",
    "This task is to \n",
    "1. generate random one-dimensional normally distributed variables;\n",
    "2. draw distribution of generated samples;\n",
    "3. compute sample mean and sample covariance of generated data."
   ]
  },
  {
   "cell_type": "markdown",
   "metadata": {},
   "source": [
    "## 1. Generate\n",
    "Generate a set of 10000 random one-dimensional normally distributed variables.   \n",
    "\n",
    "You may need to employ `np.random.randn(...)` .  \n",
    "You can use Sift+Tab in the end of typing function or `?` magic command before the function to check the usage pattern of a function."
   ]
  },
  {
   "cell_type": "code",
   "execution_count": 2,
   "metadata": {},
   "outputs": [
    {
     "data": {
      "text/plain": [
       "\u001b[0;31mDocstring:\u001b[0m\n",
       "randn(d0, d1, ..., dn)\n",
       "\n",
       "Return a sample (or samples) from the \"standard normal\" distribution.\n",
       "\n",
       ".. note::\n",
       "    This is a convenience function for users porting code from Matlab,\n",
       "    and wraps `standard_normal`. That function takes a\n",
       "    tuple to specify the size of the output, which is consistent with\n",
       "    other NumPy functions like `numpy.zeros` and `numpy.ones`.\n",
       "\n",
       ".. note::\n",
       "    New code should use the ``standard_normal`` method of a ``default_rng()``\n",
       "    instance instead; see `random-quick-start`.\n",
       "\n",
       "If positive int_like arguments are provided, `randn` generates an array\n",
       "of shape ``(d0, d1, ..., dn)``, filled\n",
       "with random floats sampled from a univariate \"normal\" (Gaussian)\n",
       "distribution of mean 0 and variance 1. A single float randomly sampled\n",
       "from the distribution is returned if no argument is provided.\n",
       "\n",
       "Parameters\n",
       "----------\n",
       "d0, d1, ..., dn : int, optional\n",
       "    The dimensions of the returned array, must be non-negative.\n",
       "    If no argument is given a single Python float is returned.\n",
       "\n",
       "Returns\n",
       "-------\n",
       "Z : ndarray or float\n",
       "    A ``(d0, d1, ..., dn)``-shaped array of floating-point samples from\n",
       "    the standard normal distribution, or a single such float if\n",
       "    no parameters were supplied.\n",
       "\n",
       "See Also\n",
       "--------\n",
       "standard_normal : Similar, but takes a tuple as its argument.\n",
       "normal : Also accepts mu and sigma arguments.\n",
       "Generator.standard_normal: which should be used for new code.\n",
       "\n",
       "Notes\n",
       "-----\n",
       "For random samples from :math:`N(\\mu, \\sigma^2)`, use:\n",
       "\n",
       "``sigma * np.random.randn(...) + mu``\n",
       "\n",
       "Examples\n",
       "--------\n",
       ">>> np.random.randn()\n",
       "2.1923875335537315  # random\n",
       "\n",
       "Two-by-four array of samples from N(3, 6.25):\n",
       "\n",
       ">>> 3 + 2.5 * np.random.randn(2, 4)\n",
       "array([[-4.49401501,  4.00950034, -1.81814867,  7.29718677],   # random\n",
       "       [ 0.39924804,  4.68456316,  4.99394529,  4.84057254]])  # random\n",
       "\u001b[0;31mType:\u001b[0m      builtin_function_or_method\n"
      ]
     },
     "metadata": {},
     "output_type": "display_data"
    }
   ],
   "source": [
    "? np.random.randn"
   ]
  },
  {
   "cell_type": "code",
   "execution_count": 3,
   "metadata": {},
   "outputs": [],
   "source": [
    "# Your code below\n",
    "dat_1d = np.random.randn(10000)"
   ]
  },
  {
   "cell_type": "markdown",
   "metadata": {},
   "source": [
    "## 2. Observe\n",
    "Draw distribution of generated samples by `plt.hist(...)` .  \n",
    "40 - 100 bins is an optimal choice."
   ]
  },
  {
   "cell_type": "code",
   "execution_count": 4,
   "metadata": {},
   "outputs": [
    {
     "data": {
      "text/plain": [
       "Text(0, 0.5, 'Frequency')"
      ]
     },
     "execution_count": 4,
     "metadata": {},
     "output_type": "execute_result"
    },
    {
     "data": {
      "image/png": "[encoded data removed]",
      "text/plain": [
       "<Figure size 432x288 with 1 Axes>"
      ]
     },
     "metadata": {
      "needs_background": "light"
     },
     "output_type": "display_data"
    }
   ],
   "source": [
    "# Your code below\n",
    "plt.hist(dat_1d, bins=40)\n",
    "plt.xlabel('Value')\n",
    "plt.ylabel('Frequency')"
   ]
  },
  {
   "cell_type": "markdown",
   "metadata": {},
   "source": [
    "## 3. Compute statistics\n",
    "Compute the sample mean and the sample covariance of the generated data."
   ]
  },
  {
   "cell_type": "code",
   "execution_count": 5,
   "metadata": {},
   "outputs": [],
   "source": [
    "def sample_mean(dat):\n",
    "    # Your code below\n",
    "    s_mean = sum(dat)/dat.shape[0]\n",
    "    \n",
    "    return s_mean\n",
    "\n",
    "def smean_iscorrect(dat):\n",
    "    return np.isclose(sample_mean(dat), dat.mean(), rtol=1e-14)"
   ]
  },
  {
   "cell_type": "markdown",
   "metadata": {},
   "source": [
    "Check correctness of your `sample_mean(...)`"
   ]
  },
  {
   "cell_type": "code",
   "execution_count": 6,
   "metadata": {},
   "outputs": [
    {
     "data": {
      "text/plain": [
       "0.008953910871729807"
      ]
     },
     "execution_count": 6,
     "metadata": {},
     "output_type": "execute_result"
    }
   ],
   "source": [
    "sample_mean(dat_1d)"
   ]
  },
  {
   "cell_type": "code",
   "execution_count": 7,
   "metadata": {},
   "outputs": [
    {
     "data": {
      "text/plain": [
       "True"
      ]
     },
     "execution_count": 7,
     "metadata": {},
     "output_type": "execute_result"
    }
   ],
   "source": [
    "smean_iscorrect(dat_1d)"
   ]
  },
  {
   "cell_type": "code",
   "execution_count": 8,
   "metadata": {},
   "outputs": [],
   "source": [
    "def sample_covariance(dat):\n",
    "    # Your code below\n",
    "    s_cov = np.sum((dat-sample_mean(dat))**2)/(dat.shape[0]-1)\n",
    "    \n",
    "    return s_cov\n",
    "\n",
    "def scov_iscorrect(dat):\n",
    "    return np.isclose(sample_covariance(dat), np.cov(dat, bias=False), rtol=1e-14)"
   ]
  },
  {
   "cell_type": "code",
   "execution_count": 9,
   "metadata": {},
   "outputs": [
    {
     "data": {
      "text/plain": [
       "0.9940598824192185"
      ]
     },
     "execution_count": 9,
     "metadata": {},
     "output_type": "execute_result"
    }
   ],
   "source": [
    "sample_covariance(dat_1d)"
   ]
  },
  {
   "cell_type": "code",
   "execution_count": 10,
   "metadata": {},
   "outputs": [
    {
     "data": {
      "text/plain": [
       "True"
      ]
     },
     "execution_count": 10,
     "metadata": {},
     "output_type": "execute_result"
    }
   ],
   "source": [
    "scov_iscorrect(dat_1d)"
   ]
  },
  {
   "cell_type": "markdown",
   "metadata": {},
   "source": [
    "# II. Probability mass \n",
    "_Imagine that your shouting robot Dartsy1D tryes to hit the target - the centre of a one-dimensional interval.  \n",
    "Find the probability to hit segment defined by the iso-contour value 1 ($\\pm \\sigma$). Dartsy1D's shooting accuracy is normally distributed.  \n",
    "Find the same meausre for $\\pm 2 \\sigma$ and $\\pm 3 \\sigma$._ \n",
    "\n",
    "![](Dartsy1D.png)\n",
    "\n",
    "This task is to theoretically find the portion of data within 1/2/3-Sigma interval (or iso-contour).  \n",
    "For simplicity consider standard one-dimensional Normallly distributed accuracy for this task.  \n",
    "You may need to recall cumulative density function and use `norm.cdf`"
   ]
  },
  {
   "cell_type": "code",
   "execution_count": 11,
   "metadata": {},
   "outputs": [],
   "source": [
    "def portion_standard(n_sigmas):\n",
    "    '''\n",
    "    Probability to meet a sample value within 1-, 2-, 3-Sigma interval of std. normal distribution\n",
    "    \n",
    "    Parameters\n",
    "    ----------\n",
    "    n_sigmas : number of Sigma intervals from the mean\n",
    "    \n",
    "    Returns\n",
    "    -------\n",
    "    port : probability\n",
    "    '''\n",
    "    assert n_sigmas == 1 or n_sigmas == 2 or n_sigmas == 3, 'Choose 1, 2 or 3'\n",
    "    \n",
    "    # Your code below\n",
    "    port = norm.cdf(n_sigmas) - norm.cdf(-n_sigmas)\n",
    "    \n",
    "    return port"
   ]
  },
  {
   "cell_type": "code",
   "execution_count": 12,
   "metadata": {},
   "outputs": [
    {
     "data": {
      "text/plain": [
       "0.6826894921370859"
      ]
     },
     "execution_count": 12,
     "metadata": {},
     "output_type": "execute_result"
    }
   ],
   "source": [
    "portion_standard(1)"
   ]
  },
  {
   "cell_type": "markdown",
   "metadata": {},
   "source": [
    "# 3 Mahalanobis distance\n",
    "In this task we compare euclidian and mahalanobis distances in 2D.  \n",
    "For that we measure the distances to some test point from mean values of two Gaussian distributions"
   ]
  },
  {
   "cell_type": "code",
   "execution_count": 13,
   "metadata": {},
   "outputs": [],
   "source": [
    "# Distributions\n",
    "mean1 = [-10,0]\n",
    "cov1 = np.array([\n",
    "    [1,0],\n",
    "    [0,1]])\n",
    "\n",
    "mean2 = [10,0]\n",
    "cov2 = np.array([\n",
    "    [6,0],\n",
    "    [0,6]])"
   ]
  },
  {
   "cell_type": "markdown",
   "metadata": {},
   "source": [
    "## 1. Sample two normal 2D-distributions\n",
    "You may need to use `np.random.multivariate_normal(...)`"
   ]
  },
  {
   "cell_type": "code",
   "execution_count": 14,
   "metadata": {},
   "outputs": [
    {
     "data": {
      "text/plain": [
       "(1000, 2)"
      ]
     },
     "execution_count": 14,
     "metadata": {},
     "output_type": "execute_result"
    }
   ],
   "source": [
    "n = 1000\n",
    "# Your code below\n",
    "cloud1 = np.random.multivariate_normal(mean1, cov1, n)\n",
    "cloud2 = np.random.multivariate_normal(mean2, cov2, n)\n",
    "\n",
    "cloud1.shape # Should be (n, 2)"
   ]
  },
  {
   "cell_type": "code",
   "execution_count": 15,
   "metadata": {},
   "outputs": [],
   "source": [
    "# Test point\n",
    "test_point = [-5,5]"
   ]
  },
  {
   "cell_type": "code",
   "execution_count": 16,
   "metadata": {},
   "outputs": [],
   "source": [
    "def plot_scene(cloud1, cloud2, mean1, mean2, test_point):\n",
    "    plt.figure(figsize=(10,7))\n",
    "    plt.scatter(cloud1[:,0], cloud1[:,1], marker='.', c='g', label='Cloud 1')\n",
    "    plt.scatter(cloud2[:,0], cloud2[:,1], marker='.', c='b', label='Cloud 2')\n",
    "    plt.scatter(mean1[0], mean1[1], marker='o', c='y', s=200, label='Mean 1')\n",
    "    plt.scatter(mean2[0], mean2[1], marker='o', c='r', s=200, label='Mean 2')\n",
    "    plt.scatter(test_point[0], test_point[1], marker='x', c='k', s=200, label='Test point')\n",
    "    plt.plot([test_point[0], mean1[0]], [test_point[1], mean1[1]], '--', color='y')\n",
    "    plt.plot([test_point[0], mean2[0]], [test_point[1], mean2[1]], '--', color='r')\n",
    "    plt.legend()\n",
    "    plt.axis('equal')\n",
    "    plt.grid()"
   ]
  },
  {
   "cell_type": "code",
   "execution_count": 17,
   "metadata": {},
   "outputs": [
    {
     "data": {
      "image/png": "[encoded data removed]",
      "text/plain": [
       "<Figure size 720x504 with 1 Axes>"
      ]
     },
     "metadata": {
      "needs_background": "light"
     },
     "output_type": "display_data"
    }
   ],
   "source": [
    "plot_scene(cloud1, cloud2, mean1, mean2, test_point)"
   ]
  },
  {
   "cell_type": "markdown",
   "metadata": {},
   "source": [
    "Answer the question: What point cloud mean is closer to test point?  \n",
    "Provide the answer for both, euclidean and mahalanobis measure.  \n",
    "You may need to use SciPy `distance` module."
   ]
  },
  {
   "cell_type": "code",
   "execution_count": 18,
   "metadata": {},
   "outputs": [
    {
     "data": {
      "text/plain": [
       "7.0710678118654755"
      ]
     },
     "execution_count": 18,
     "metadata": {},
     "output_type": "execute_result"
    }
   ],
   "source": [
    "# Eucledian distance (test_point, mean1)\n",
    "# Your code below\n",
    "distance.euclidean(test_point, mean1)"
   ]
  },
  {
   "cell_type": "code",
   "execution_count": 19,
   "metadata": {},
   "outputs": [
    {
     "data": {
      "text/plain": [
       "15.811388300841896"
      ]
     },
     "execution_count": 19,
     "metadata": {},
     "output_type": "execute_result"
    }
   ],
   "source": [
    "# Eucledian distance (test_point, mean2)\n",
    "# Your code below\n",
    "distance.euclidean(test_point, mean2)"
   ]
  },
  {
   "cell_type": "code",
   "execution_count": 20,
   "metadata": {},
   "outputs": [
    {
     "data": {
      "text/plain": [
       "7.0710678118654755"
      ]
     },
     "execution_count": 20,
     "metadata": {},
     "output_type": "execute_result"
    }
   ],
   "source": [
    "# Mahalanobis distance (test_point, mean1)\n",
    "# Your code below\n",
    "distance.mahalanobis(test_point, mean1, np.linalg.inv(cov1))"
   ]
  },
  {
   "cell_type": "code",
   "execution_count": 21,
   "metadata": {},
   "outputs": [
    {
     "data": {
      "text/plain": [
       "6.454972243679028"
      ]
     },
     "execution_count": 21,
     "metadata": {},
     "output_type": "execute_result"
    }
   ],
   "source": [
    "# Mahalanobis distance (test_point, mean2)\n",
    "# Your code below\n",
    "distance.mahalanobis(test_point, mean2, np.linalg.inv(cov2))distance.mahalanobis(test_point, mean2, np.linalg.inv(cov2))"
   ]
  },
  {
   "cell_type": "code",
   "execution_count": null,
   "metadata": {},
   "outputs": [],
   "source": []
  }
 ],
 "metadata": {
  "kernelspec": {
   "display_name": "Python 3",
   "language": "python",
   "name": "python3"
  },
  "language_info": {
   "codemirror_mode": {
    "name": "ipython",
    "version": 3
   },
   "file_extension": ".py",
   "mimetype": "text/x-python",
   "name": "python",
   "nbconvert_exporter": "python",
   "pygments_lexer": "ipython3",
   "version": "3.8.3"
  }
 },
 "nbformat": 4,
 "nbformat_minor": 4
}
