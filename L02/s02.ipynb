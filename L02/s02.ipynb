{
 "cells": [
  {
   "cell_type": "code",
   "execution_count": null,
   "metadata": {},
   "outputs": [],
   "source": [
    "# Import libraries\n",
    "import numpy as np\n",
    "import matplotlib.pyplot as plt\n",
    "from scipy.stats import norm\n",
    "from scipy.spatial import distance"
   ]
  },
  {
   "cell_type": "markdown",
   "metadata": {},
   "source": [
    "# I. Sample mean and sample covariance\n",
    "This task is to \n",
    "1. generate random one-dimensional normally distributed variables;\n",
    "2. draw distribution of generated samples;\n",
    "3. compute sample mean and sample covariance of generated data."
   ]
  },
  {
   "cell_type": "markdown",
   "metadata": {},
   "source": [
    "## 1. Generate\n",
    "Generate a set of 10000 random one-dimensional normally distributed variables.   \n",
    "\n",
    "You may need to employ `np.random.randn(...)` .  \n",
    "You can use Sift+Tab in the end of typing function or `?` magic command before the function to check the usage pattern of a function."
   ]
  },
  {
   "cell_type": "code",
   "execution_count": null,
   "metadata": {},
   "outputs": [],
   "source": [
    "? np.random.randn"
   ]
  },
  {
   "cell_type": "code",
   "execution_count": null,
   "metadata": {},
   "outputs": [],
   "source": [
    "# Your code below\n",
    "dat_1d = "
   ]
  },
  {
   "cell_type": "markdown",
   "metadata": {},
   "source": [
    "## 2. Observe\n",
    "Draw distribution of generated samples by `plt.hist(...)` .  \n",
    "40 - 100 bins is an optimal choice."
   ]
  },
  {
   "cell_type": "code",
   "execution_count": null,
   "metadata": {},
   "outputs": [],
   "source": [
    "# Your code below\n",
    "\n",
    "plt.xlabel('Value')\n",
    "plt.ylabel('Frequency')"
   ]
  },
  {
   "cell_type": "markdown",
   "metadata": {},
   "source": [
    "## 3. Compute statistics\n",
    "Compute the sample mean and the sample covariance of the generated data."
   ]
  },
  {
   "cell_type": "code",
   "execution_count": null,
   "metadata": {},
   "outputs": [],
   "source": [
    "def sample_mean(dat):\n",
    "    # Your code below\n",
    "    s_mean = \n",
    "    \n",
    "    return s_mean\n",
    "\n",
    "def smean_iscorrect(dat):\n",
    "    return np.isclose(sample_mean(dat), dat.mean(), rtol=1e-14)"
   ]
  },
  {
   "cell_type": "markdown",
   "metadata": {},
   "source": [
    "Check correctness of your `sample_mean(...)`"
   ]
  },
  {
   "cell_type": "code",
   "execution_count": null,
   "metadata": {},
   "outputs": [],
   "source": [
    "sample_mean(dat_1d)"
   ]
  },
  {
   "cell_type": "code",
   "execution_count": null,
   "metadata": {},
   "outputs": [],
   "source": [
    "smean_iscorrect(dat_1d)"
   ]
  },
  {
   "cell_type": "code",
   "execution_count": null,
   "metadata": {},
   "outputs": [],
   "source": [
    "def sample_covariance(dat):\n",
    "    # Your code below\n",
    "    s_cov = \n",
    "    \n",
    "    return s_cov\n",
    "\n",
    "def scov_iscorrect(dat):\n",
    "    return np.isclose(sample_covariance(dat), np.cov(dat, bias=False), rtol=1e-14)"
   ]
  },
  {
   "cell_type": "code",
   "execution_count": null,
   "metadata": {},
   "outputs": [],
   "source": [
    "sample_covariance(dat_1d)"
   ]
  },
  {
   "cell_type": "code",
   "execution_count": null,
   "metadata": {},
   "outputs": [],
   "source": [
    "scov_iscorrect(dat_1d)"
   ]
  },
  {
   "cell_type": "markdown",
   "metadata": {},
   "source": [
    "# II. Probability mass \n",
    "_Imagine that your shouting robot Dartsy1D tryes to hit the target - the centre of a one-dimensional interval.  \n",
    "Find the probability to hit segment defined by the iso-contour value 1 ($\\pm \\sigma$). Dartsy1D's shooting accuracy is normally distributed.  \n",
    "Find the same meausre for $\\pm 2 \\sigma$ and $\\pm 3 \\sigma$._ \n",
    "\n",
    "![](Dartsy1D.png)\n",
    "\n",
    "This task is to theoretically find the portion of data within 1/2/3-Sigma interval (or iso-contour).  \n",
    "For simplicity consider standard one-dimensional Normallly distributed accuracy for this task.  \n",
    "You may need to recall cumulative density function and use `norm.cdf`"
   ]
  },
  {
   "cell_type": "code",
   "execution_count": null,
   "metadata": {},
   "outputs": [],
   "source": [
    "def portion_standard(n_sigmas):\n",
    "    '''\n",
    "    Probability to meet a sample value within 1-, 2-, 3-Sigma interval of std. normal distribution\n",
    "    \n",
    "    Parameters\n",
    "    ----------\n",
    "    n_sigmas : number of Sigma intervals from the mean\n",
    "    \n",
    "    Returns\n",
    "    -------\n",
    "    port : probability\n",
    "    '''\n",
    "    assert n_sigmas == 1 or n_sigmas == 2 or n_sigmas == 3, 'Choose 1, 2 or 3'\n",
    "    \n",
    "    # Your code below\n",
    "    port = \n",
    "    \n",
    "    return port"
   ]
  },
  {
   "cell_type": "code",
   "execution_count": null,
   "metadata": {},
   "outputs": [],
   "source": [
    "portion_standard(1)"
   ]
  },
  {
   "cell_type": "markdown",
   "metadata": {},
   "source": [
    "# 3 Mahalanobis distance\n",
    "In this task we compare euclidian and mahalanobis distances in 2D.  \n",
    "For that we measure the distances to some test point from mean values of two Gaussian distributions"
   ]
  },
  {
   "cell_type": "code",
   "execution_count": null,
   "metadata": {},
   "outputs": [],
   "source": [
    "# Distributions\n",
    "mean1 = [-10,0]\n",
    "cov1 = np.array([\n",
    "    [1,0],\n",
    "    [0,1]])\n",
    "\n",
    "mean2 = [10,0]\n",
    "cov2 = np.array([\n",
    "    [6,0],\n",
    "    [0,6]])"
   ]
  },
  {
   "cell_type": "markdown",
   "metadata": {},
   "source": [
    "## 1. Sample two normal 2D-distributions\n",
    "You may need to use `np.random.multivariate_normal(...)`"
   ]
  },
  {
   "cell_type": "code",
   "execution_count": null,
   "metadata": {},
   "outputs": [],
   "source": [
    "n = 1000\n",
    "# Your code below\n",
    "cloud1 = \n",
    "cloud2 = \n",
    "\n",
    "cloud1.shape # Should be (n, 2)"
   ]
  },
  {
   "cell_type": "code",
   "execution_count": null,
   "metadata": {},
   "outputs": [],
   "source": [
    "# Test point\n",
    "test_point = [-5,5]"
   ]
  },
  {
   "cell_type": "code",
   "execution_count": null,
   "metadata": {},
   "outputs": [],
   "source": [
    "def plot_scene(cloud1, cloud2, mean1, mean2, test_point):\n",
    "    plt.figure(figsize=(10,7))\n",
    "    plt.scatter(cloud1[:,0], cloud1[:,1], marker='.', c='g', label='Cloud 1')\n",
    "    plt.scatter(cloud2[:,0], cloud2[:,1], marker='.', c='b', label='Cloud 2')\n",
    "    plt.scatter(mean1[0], mean1[1], marker='o', c='y', s=200, label='Mean 1')\n",
    "    plt.scatter(mean2[0], mean2[1], marker='o', c='r', s=200, label='Mean 2')\n",
    "    plt.scatter(test_point[0], test_point[1], marker='x', c='k', s=200, label='Test point')\n",
    "    plt.plot([test_point[0], mean1[0]], [test_point[1], mean1[1]], '--', color='y')\n",
    "    plt.plot([test_point[0], mean2[0]], [test_point[1], mean2[1]], '--', color='r')\n",
    "    plt.legend()\n",
    "    plt.axis('equal')\n",
    "    plt.grid()"
   ]
  },
  {
   "cell_type": "code",
   "execution_count": null,
   "metadata": {},
   "outputs": [],
   "source": [
    "plot_scene(cloud1, cloud2, mean1, mean2, test_point)"
   ]
  },
  {
   "cell_type": "markdown",
   "metadata": {},
   "source": [
    "## 2. Answer the question: What point cloud mean value is closer to test point?  \n",
    "Provide the answer for both, euclidean and mahalanobis distance measure.  \n",
    "You may need to use SciPy `distance` module."
   ]
  },
  {
   "cell_type": "code",
   "execution_count": null,
   "metadata": {},
   "outputs": [],
   "source": [
    "# Eucledian distance (test_point, mean1)\n",
    "# Your code below\n"
   ]
  },
  {
   "cell_type": "code",
   "execution_count": null,
   "metadata": {},
   "outputs": [],
   "source": [
    "# Eucledian distance (test_point, mean2)\n",
    "# Your code below\n"
   ]
  },
  {
   "cell_type": "code",
   "execution_count": null,
   "metadata": {},
   "outputs": [],
   "source": [
    "# Mahalanobis distance (test_point, mean1)\n",
    "# Your code below\n"
   ]
  },
  {
   "cell_type": "code",
   "execution_count": null,
   "metadata": {},
   "outputs": [],
   "source": [
    "# Mahalanobis distance (test_point, mean2)\n",
    "# Your code below\n"
   ]
  },
  {
   "cell_type": "code",
   "execution_count": null,
   "metadata": {},
   "outputs": [],
   "source": []
  }
 ],
 "metadata": {
  "kernelspec": {
   "display_name": "Python 3",
   "language": "python",
   "name": "python3"
  },
  "language_info": {
   "codemirror_mode": {
    "name": "ipython",
    "version": 3
   },
   "file_extension": ".py",
   "mimetype": "text/x-python",
   "name": "python",
   "nbconvert_exporter": "python",
   "pygments_lexer": "ipython3",
   "version": "3.8.3"
  }
 },
 "nbformat": 4,
 "nbformat_minor": 4
}
