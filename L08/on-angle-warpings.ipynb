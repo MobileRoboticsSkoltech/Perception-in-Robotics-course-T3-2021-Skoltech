{
 "cells": [
  {
   "cell_type": "markdown",
   "id": "sufficient-colleague",
   "metadata": {},
   "source": [
    "# On wrapping angles\n",
    "this will be a seminar dedicated to the problem of wrapping angles, when it is necessary to do it and when not.\n",
    "\n",
    "Any angle can be represented by a real value $\\alpha \\in \\mathbb{R}$.\n",
    "\n",
    "However, we know that by this definition, multiple values represent the same angle since $\\alpha = \\alpha +2\\pi\\cdot k$. This property of the representation (surjective) of many values mapping to the same angle is not a problem, since this angle is unique.\n",
    "\n",
    "Now we will investigate different effects on the angles, applied to state estimation problems.\n",
    "\n",
    "## Task 1: Open loop propagation\n",
    "Given the system $x_t = x_{t-1}+u_t + \\eta_t$, propagate for the sequence $u_t = 0.3$ for $t=1,\\dots,100$. \n",
    "\n",
    "$\\eta_t\\sim\\mathcal{N}(0,0.1)$ and $x_0\\sim\\mathcal{N}(0,0)$ (perfect information)\n",
    "\n",
    "You can use the *wrap* function from PS2 (copied here below)"
   ]
  },
  {
   "cell_type": "code",
   "execution_count": null,
   "id": "regular-rubber",
   "metadata": {},
   "outputs": [],
   "source": [
    "import numpy as np\n",
    "import matplotlib.pyplot as plt\n",
    "\n",
    "def wrap_angle(angle):\n",
    "    \"\"\"\n",
    "    Wraps the given angle to the range [-pi, +pi].\n",
    "\n",
    "    :param angle: The angle (in rad) to wrap (can be unbounded).\n",
    "    :return: The wrapped angle (guaranteed to in [-pi, +pi]).\n",
    "    \"\"\"\n",
    "\n",
    "    pi2 = 2 * np.pi\n",
    "\n",
    "    while angle < -np.pi:\n",
    "        angle += pi2\n",
    "\n",
    "    while angle >= np.pi:\n",
    "        angle -= pi2\n",
    "\n",
    "    return angle\n"
   ]
  },
  {
   "cell_type": "code",
   "execution_count": null,
   "id": "seasonal-moses",
   "metadata": {},
   "outputs": [],
   "source": [
    "N = 100\n",
    "x = [0]\n",
    "x_gt= [0]\n",
    "R = 0.01\n",
    "u=np.random.randn(N)*np.sqrt(R)+0.3\n",
    "time = [0]\n",
    "for t in range(N):\n",
    "    time.append(t)\n",
    "    x_gt.append(wrap_angle(x_gt[-1]+0.3)) #this will be used later for comparison\n",
    "    \n",
    "    # TODO code for mean propagation\n",
    "    \n",
    "plt.plot(time,x_gt,x)\n",
    "plt.show()"
   ]
  },
  {
   "cell_type": "code",
   "execution_count": null,
   "id": "under-lawrence",
   "metadata": {},
   "outputs": [],
   "source": [
    "plt.plot(time,np.cos(x_gt), np.cos(x))\n",
    "plt.show()"
   ]
  },
  {
   "cell_type": "markdown",
   "id": "sensitive-cleanup",
   "metadata": {},
   "source": [
    "## Task 2: Correction\n",
    "we consider the observation model $p(z_t | x_t)$ and the observation function $z_t = h(x_t)+\\delta_t = x_t+\\delta_t, \\quad \\delta\\sim \\mathcal{N}(0,Q)$, for $Q=1$\n",
    "\n",
    "\n",
    "The overeall probabilistic observation model taking intou account both random varaibles is\n",
    "$z_t \\sim \\mathcal{N}(z_t | h(x_t), H\\Sigma_xH^T+Q)$, as explained in L05"
   ]
  },
  {
   "cell_type": "code",
   "execution_count": null,
   "id": "selective-postcard",
   "metadata": {},
   "outputs": [],
   "source": [
    "Q = 0.01\n",
    "z = x_gt[1:] + np.random.randn(N)*np.sqrt(Q)"
   ]
  },
  {
   "cell_type": "code",
   "execution_count": null,
   "id": "regional-muscle",
   "metadata": {},
   "outputs": [],
   "source": [
    "xp = [0]\n",
    "cov = [0]\n",
    "for t in range(N):\n",
    "    xp.append((xp[-1]+u[t]))\n",
    "    cov.append(cov[-1]+R)\n",
    "    k = cov[-1] / (cov[-1] + Q)\n",
    "    xp[-1] = xp[-1] + k *(z[t] - xp[-1])\n",
    "    cov[-1] = (1 - k) * cov[-1]\n",
    "plt.figure(figsize=(15,6))\n",
    "plt.subplot(1,2,1)\n",
    "plt.plot(time,x_gt,xp)\n",
    "plt.subplot(1,2,2)\n",
    "plt.plot(time,np.cos(x_gt), np.cos(xp))\n",
    "plt.show()"
   ]
  },
  {
   "cell_type": "markdown",
   "id": "juvenile-runner",
   "metadata": {},
   "source": [
    "Q: Where it is necessary to wrap angles?\n",
    "\n",
    "Q: Explain why?\n",
    "\n",
    "Q: What is the minumum number of warping necessary?"
   ]
  }
 ],
 "metadata": {
  "kernelspec": {
   "display_name": "Python 3",
   "language": "python",
   "name": "python3"
  },
  "language_info": {
   "codemirror_mode": {
    "name": "ipython",
    "version": 3
   },
   "file_extension": ".py",
   "mimetype": "text/x-python",
   "name": "python",
   "nbconvert_exporter": "python",
   "pygments_lexer": "ipython3",
   "version": "3.6.9"
  }
 },
 "nbformat": 4,
 "nbformat_minor": 5
}
