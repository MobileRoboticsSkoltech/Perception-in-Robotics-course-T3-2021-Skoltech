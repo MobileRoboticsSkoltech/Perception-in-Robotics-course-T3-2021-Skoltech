{
 "cells": [
  {
   "cell_type": "code",
   "execution_count": null,
   "metadata": {},
   "outputs": [],
   "source": [
    "import mrob\n",
    "import numpy as np\n",
    "import matplotlib.pyplot as plt\n",
    "from mpl_toolkits.mplot3d import Axes3D"
   ]
  },
  {
   "cell_type": "markdown",
   "metadata": {},
   "source": [
    "## Plot preparations: "
   ]
  },
  {
   "cell_type": "code",
   "execution_count": null,
   "metadata": {},
   "outputs": [],
   "source": [
    "def plotConfig():\n",
    "    \"configfures the 3d plot structure for representing tranformations\"\n",
    "    fig = plt.figure()\n",
    "    ax = fig.add_subplot(111, projection='3d')\n",
    "    return ax\n",
    "    \n",
    "def plotT(T, ax):\n",
    "    \"Plots a 3 axis frame in the origin given the mrob SE3 transformation, right-hand convention\"\n",
    "    # transform 3 axis to the coordinate system\n",
    "    x = np.zeros((4,3))\n",
    "    x[0,:] = T.transform(np.array([0,0,0], dtype='float64'))\n",
    "    x[1,:] = T.transform(np.array([1,0,0], dtype='float64'))\n",
    "    ax.plot(x[[0,1],0],x[[0,1],1],x[[0,1],2],'r') # X axis\n",
    "    x[2,:] = T.transform(np.array([0,1,0], dtype='float64'))\n",
    "    ax.plot(x[[0,2],0],x[[0,2],1],x[[0,2],2],'g') # Y axis\n",
    "    x[3,:] = T.transform(np.array([0,0,1], dtype='float64'))\n",
    "    ax.plot(x[[0,3],0],x[[0,3],1],x[[0,3],2],'b') # Z axis\n",
    "    plt.xlabel('x')\n",
    "    plt.ylabel('y')"
   ]
  },
  {
   "cell_type": "markdown",
   "metadata": {},
   "source": [
    "## Create rotation vector and map: \n",
    "$$\\Large \\rm I\\!R^3 \\rightarrow \\rm SO(3)$$"
   ]
  },
  {
   "cell_type": "code",
   "execution_count": null,
   "metadata": {},
   "outputs": [],
   "source": [
    "rotation_angles = np.random.rand(3)\n",
    "R = mrob.geometry.SO3(rotation_angles)\n",
    "with mrob.ostream_redirect(stdout=True, stderr=True):\n",
    "    R.print()"
   ]
  },
  {
   "cell_type": "markdown",
   "metadata": {},
   "source": [
    "## Create translation vector and build RBT matrix: \n",
    "$$\\Large \\begin{equation*}\n",
    "T = \n",
    "\\begin{bmatrix}\n",
    "R & t \\\\\n",
    "0 & 1\n",
    "\\end{bmatrix}\n",
    "\\end{equation*}$$"
   ]
  },
  {
   "cell_type": "code",
   "execution_count": null,
   "metadata": {},
   "outputs": [],
   "source": [
    "T = mrob.geometry.SE3()\n",
    "\n",
    "ax = plotConfig()\n",
    "plotT(T, ax)\n",
    "plt.title('RBT')\n",
    "plt.show()"
   ]
  },
  {
   "cell_type": "markdown",
   "metadata": {},
   "source": [
    "## Create rotation + translation vector\n",
    "$$\\begin{equation*}\n",
    "\\xi = \n",
    "\\begin{bmatrix}\n",
    "\\theta_1 \\\\\n",
    "\\theta_2 \\\\\n",
    "\\theta_3 \\\\\n",
    "\\rho_1 \\\\\n",
    "\\rho_2 \\\\\n",
    "\\rho_3\n",
    "\\end{bmatrix}\n",
    "\\end{equation*}$$"
   ]
  },
  {
   "cell_type": "code",
   "execution_count": null,
   "metadata": {},
   "outputs": [],
   "source": []
  },
  {
   "cell_type": "markdown",
   "metadata": {},
   "source": [
    "### Create RBT matrix, i.e. this mapping:\n",
    "$$\\Large \\rm I\\!R^6 \\rightarrow \\rm SE(3)$$\n",
    "### Inside the .SE3() method, this formula is applied:\n",
    "$$\\Large T = Exp(\\xi)$$"
   ]
  },
  {
   "cell_type": "code",
   "execution_count": null,
   "metadata": {},
   "outputs": [],
   "source": []
  },
  {
   "cell_type": "markdown",
   "metadata": {},
   "source": [
    "## Distance between RBT"
   ]
  },
  {
   "cell_type": "code",
   "execution_count": null,
   "metadata": {},
   "outputs": [],
   "source": []
  }
 ],
 "metadata": {
  "kernelspec": {
   "display_name": "Python 3",
   "language": "python",
   "name": "python3"
  },
  "language_info": {
   "codemirror_mode": {
    "name": "ipython",
    "version": 3
   },
   "file_extension": ".py",
   "mimetype": "text/x-python",
   "name": "python",
   "nbconvert_exporter": "python",
   "pygments_lexer": "ipython3",
   "version": "3.6.9"
  }
 },
 "nbformat": 4,
 "nbformat_minor": 4
}
