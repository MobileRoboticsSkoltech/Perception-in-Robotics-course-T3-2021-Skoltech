{
 "cells": [
  {
   "cell_type": "markdown",
   "id": "lightweight-hotel",
   "metadata": {},
   "source": [
    "# Particle Filter\n",
    "## Task 1\n",
    "Create the Particle set of size $N=1000$ and with equal weights, given that $x\\sim \\mathcal{N}(0,1)$.\n",
    "\n",
    "Plot the histogram of values."
   ]
  },
  {
   "cell_type": "code",
   "execution_count": null,
   "id": "integrated-reason",
   "metadata": {},
   "outputs": [],
   "source": [
    "import numpy as np\n",
    "import matplotlib.pyplot as plt\n",
    "\n",
    "# TODO"
   ]
  },
  {
   "cell_type": "markdown",
   "id": "revolutionary-excellence",
   "metadata": {},
   "source": [
    "## Task 2\n",
    "Propagate the particle set, given the following 1d system: $y = (x+\\eta)^2$, where $\\eta\\sim\\mathcal{N}(0,2)$ and obtain $\\bar{\\text{bel}}(y)$"
   ]
  },
  {
   "cell_type": "code",
   "execution_count": null,
   "id": "veterinary-developer",
   "metadata": {},
   "outputs": [],
   "source": [
    "#TODO"
   ]
  },
  {
   "cell_type": "markdown",
   "id": "alleged-stockholm",
   "metadata": {},
   "source": [
    "What can you say about this PDF?"
   ]
  },
  {
   "cell_type": "markdown",
   "id": "induced-shopper",
   "metadata": {},
   "source": [
    "## Task 3\n",
    "Now, let's consider the likelihood function $p(z|y)=U(y-1,y+1)$ and the observation $z=4$. Calculate the new weighs of the particle set that represent the posterior belief $\\text{bel}(y)$"
   ]
  },
  {
   "cell_type": "code",
   "execution_count": null,
   "id": "comic-welsh",
   "metadata": {},
   "outputs": [],
   "source": [
    "#TODO"
   ]
  },
  {
   "cell_type": "markdown",
   "id": "therapeutic-printer",
   "metadata": {},
   "source": [
    "Q: What is the mean of the new particle set?\n",
    "\n",
    "Q: How many particles have non-zero weight? How can this be a problem?"
   ]
  }
 ],
 "metadata": {
  "kernelspec": {
   "display_name": "Python 3",
   "language": "python",
   "name": "python3"
  },
  "language_info": {
   "codemirror_mode": {
    "name": "ipython",
    "version": 3
   },
   "file_extension": ".py",
   "mimetype": "text/x-python",
   "name": "python",
   "nbconvert_exporter": "python",
   "pygments_lexer": "ipython3",
   "version": "3.6.9"
  }
 },
 "nbformat": 4,
 "nbformat_minor": 5
}
