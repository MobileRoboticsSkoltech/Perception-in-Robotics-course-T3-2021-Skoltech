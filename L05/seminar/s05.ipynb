{
 "cells": [
  {
   "cell_type": "code",
   "execution_count": null,
   "metadata": {},
   "outputs": [],
   "source": [
    "import numpy as np\n",
    "import matplotlib.pyplot as plt\n",
    "\n",
    "# for utils\n",
    "import scipy\n",
    "from scipy.spatial.transform import Rotation as Rot"
   ]
  },
  {
   "cell_type": "code",
   "execution_count": null,
   "metadata": {},
   "outputs": [],
   "source": [
    "# utils\n",
    "def plot_poses(Trs, enum=False):\n",
    "    xs = []\n",
    "    ys = []\n",
    "    plt.plot(0, 0, marker='o', markersize=20, c='r', linestyle='None', label='Origin')\n",
    "    for index, Tr in enumerate(Trs):\n",
    "        x = Tr[0,2]\n",
    "        y = Tr[1,2]\n",
    "        R3 = np.eye(3)\n",
    "        R3[:2,:2] = Tr[:2,:2]\n",
    "        t = Rot.from_matrix(R3).as_rotvec()[2]\n",
    "        \n",
    "        plt.plot(x, y, marker=(3, 0, 180*t/np.pi-90), markersize=20, linestyle='None')\n",
    "        plt.plot(x, y, marker=(2, 0, 180*t/np.pi-90), markersize=30, linestyle='None')\n",
    "        if enum:\n",
    "            plt.text(x, y, index, size=20)\n",
    "        xs.append(x)\n",
    "        ys.append(y)\n",
    "    plt.xlabel(r'$X_g$')\n",
    "    plt.ylabel(r'$Y_g$')\n",
    "    plt.plot(xs, ys)    \n",
    "    plt.legend()\n",
    "    plt.axis('equal')\n",
    "    plt.grid()\n",
    "    \n",
    "def gTl_is_correct():\n",
    "    x_ = np.random.randn(3)\n",
    "    x_[2] = np.clip(x_[2], -np.pi/2.1, +np.pi/2.1)\n",
    "    res = gTl(x_)\n",
    "    assert res.shape == (3,3), \"T must be 3x3 matrix\"\n",
    "    \n",
    "    mat = np.eye(3); mat[0,2] = x_[0]; mat[1,2] = x_[1]\n",
    "    if 'as_matrix' in dir(Rot):\n",
    "        mat[:2,:2] = Rot.from_rotvec([0,0,x_[2]]).as_matrix()[:2,:2]\n",
    "    else:\n",
    "        mat[:2,:2] = Rot.from_rotvec([0,0,x_[2]]).as_dcm()[:2,:2]\n",
    "    return np.linalg.norm(np.linalg.inv(mat) @ res - np.eye(3)) < 1e-14"
   ]
  },
  {
   "cell_type": "markdown",
   "metadata": {},
   "source": [
    "# I. Motion model"
   ]
  },
  {
   "cell_type": "markdown",
   "metadata": {},
   "source": [
    "This is a two-wheeled robot.\n",
    "<img src=\"./motion.png\">\n",
    "\n",
    "The robot has the following motion model.  \n",
    "\n",
    "$\\begin{bmatrix} x\\\\y\\\\ \\theta \\end{bmatrix}_t = \\begin{bmatrix} x\\\\y\\\\ \\theta \\end{bmatrix}_{t-1} + \\Delta t\n",
    "\\begin{bmatrix} \n",
    "  \\frac{1}{2} \\, \\cos \\theta_{t-1} & \\frac{1}{2} \\, \\cos \\theta_{t-1} \\\\ \n",
    "  \\frac{1}{2} \\, \\sin \\theta_{t-1} & \\frac{1}{2} \\, \\sin \\theta_{t-1} \\\\ \n",
    "  \\frac{1}{l} & -\\frac{1}{l} \n",
    "\\end{bmatrix}\n",
    "\\begin{bmatrix} v_1 + \\eta_{v_1}\\\\ v_2 + \\eta_{v_2}\\end{bmatrix}_t + \\begin{bmatrix}\\eta_x \\\\ \\eta_y \\\\ \\eta_\\theta \\\\ \\end{bmatrix}$\n",
    "\n",
    "Notice, that here Gaussian noise is presented in both: _state_ and _action_ space. $\\eta_{\\mathrm x} \\sim \\mathcal N (0, R)$, $\\eta_{u} \\sim \\mathcal N (0, M)$\n",
    "\n",
    "It is almost the same model as in the lecture 5 but with a little different action vector\n",
    "$u = \\begin{bmatrix} v_1 \\\\ v_2 \\end{bmatrix}$\n",
    "\n",
    "<br/>\n",
    "<br/>\n",
    "\n",
    "Linearization of transition function is needed to feed this model to (Extended) Kalman filter:\n",
    "\n",
    "$x_t = g(\\mathrm x_{t-1}, u_t) \\simeq g(\\mathrm \\mu_{t-1}, \\bar u_t) + \\left.\\frac{\\partial g(x_{t-1},u_t)} { \\partial x_{t-1}} \\right|_{\\mu_{t-1}} \\cdot (x_{t-1}-\\mu_{t-1}) + \\left.\\frac{\\partial g(x_{t-1},u_t)} {\\partial u_t} \\right|_{\\bar u_t} \\cdot (u_t-\\bar u_t)$\n",
    "\n",
    "$G_t= \\left.\\frac{\\partial g(x_{t-1},u_t)} { \\partial x_{t-1}} \\right|_{\\mu_{t-1}} $  \n",
    "\n",
    "$V_t= \\left.\\frac{\\partial g(x_{t-1},u_t)} {\\partial u_t} \\right|_{\\overline u_t}$    "
   ]
  },
  {
   "cell_type": "markdown",
   "metadata": {},
   "source": [
    "### Task.\n",
    "\n",
    "Obtain $G_t$, $V_t$.\n",
    "\n",
    "\n",
    "\n",
    "_Hint. In practice you can forget about noise terms while linearising:_\n",
    "\n",
    "$\\begin{bmatrix} x\\\\y\\\\ \\theta \\end{bmatrix}_t = \\begin{bmatrix} x\\\\y\\\\ \\theta \\end{bmatrix}_{t-1} + \\Delta t\n",
    "\\begin{bmatrix} \n",
    "  \\frac{1}{2} \\, \\cos \\theta_{t-1} & \\frac{1}{2} \\, \\cos \\theta_{t-1} \\\\ \n",
    "  \\frac{1}{2} \\, \\sin \\theta_{t-1} & \\frac{1}{2} \\, \\sin \\theta_{t-1} \\\\ \n",
    "  \\frac{1}{l} & -\\frac{1}{l} \n",
    "\\end{bmatrix}\n",
    "\\begin{bmatrix} v_1\\\\ v_2\\end{bmatrix}_t$\n",
    "\n",
    "_Hint for $G_t$. You may do matrix multiplication of action part beforehand to get simpler expression:  \n",
    "$B \\cdot u$ will have dims 3x1 instead of 3x2 plus 2x1._\n",
    "\n",
    "You can write answer here below or handwrite.\n",
    "\n",
    "$G_t = \n",
    "%Fill in G_t below\n",
    "\\begin{bmatrix}\n",
    "  ? & ? & ?\\\\\n",
    "  ? & ? & ?\\\\\n",
    "  ? & ? & ?\n",
    "\\end{bmatrix}\n",
    "$\n",
    "\n",
    "$V_t = \n",
    "%Fill in F_t below\n",
    "?\n",
    "$"
   ]
  },
  {
   "cell_type": "markdown",
   "metadata": {},
   "source": [
    "# II. RBT\n",
    "\n",
    "According to Lynch book [_Lynch, Kevin M., and Frank C. Park. Modern Robotics. Cambridge University Press, 2017._\n",
    "]  \n",
    "there are three major uses for a transformation matrix $T$.  \n",
    "\n",
    "__Use (a): to represent the configuration (position and orientation) of a rigid body;__\n",
    "\n",
    "Suppose, the origin of a robot (= origin of robot's ref. frame) is located in the point $(x,y)$ of a global frame   \n",
    "and robot's frame is rotated by angle $\\theta$:\n",
    "\n",
    "<img src=\"./global_local.png\">\n",
    "\n",
    "Its pose (pose = position + orientation) can be represented by the vector $$\\mathrm x = \\begin{bmatrix} x\\\\y\\\\ \\theta \\end{bmatrix}$$\n",
    "\n",
    "or by the transformation matrix:\n",
    "$$^gT_l(\\mathrm x) = \\operatorname{some\\_mapping}(\\mathrm x)$$\n",
    "\n",
    "_Here $^gT_l$ means that local frame is described wrt. global frame_"
   ]
  },
  {
   "cell_type": "markdown",
   "metadata": {},
   "source": [
    "### Task 1. (already solved for you)\n",
    "Code $\\operatorname{some\\_mapping}(\\mathrm x)$"
   ]
  },
  {
   "cell_type": "code",
   "execution_count": null,
   "metadata": {},
   "outputs": [],
   "source": [
    "# T(x)\n",
    "# use numpy only\n",
    "def gTl(state):\n",
    "    def c(t):\n",
    "        return np.cos(t)\n",
    "    def s(t):\n",
    "        return np.sin(t)\n",
    "    x, y, t = state\n",
    "    return np.array([\n",
    "        [c(t), -s(t), x],\n",
    "        [s(t), c(t), y],\n",
    "        [0, 0, 1]\n",
    "    ])"
   ]
  },
  {
   "cell_type": "code",
   "execution_count": null,
   "metadata": {},
   "outputs": [],
   "source": [
    "# Check out\n",
    "gTl_is_correct()"
   ]
  },
  {
   "cell_type": "code",
   "execution_count": null,
   "metadata": {},
   "outputs": [],
   "source": [
    "# Robot at the origin of global frame\n",
    "x = [0,0,0]\n",
    "T_origin = gTl(x)\n",
    "T_origin"
   ]
  },
  {
   "cell_type": "code",
   "execution_count": null,
   "metadata": {},
   "outputs": [],
   "source": [
    "# plot\n",
    "Ts = [T_origin]\n",
    "plot_poses(Ts)"
   ]
  },
  {
   "cell_type": "code",
   "execution_count": null,
   "metadata": {},
   "outputs": [],
   "source": [
    "# Purely rotated robot\n",
    "x = [0,0,np.pi/6]\n",
    "T_rot = gTl(x)\n",
    "T_rot"
   ]
  },
  {
   "cell_type": "code",
   "execution_count": null,
   "metadata": {},
   "outputs": [],
   "source": [
    "# plot\n",
    "Ts = [T_rot]\n",
    "plot_poses(Ts)"
   ]
  },
  {
   "cell_type": "code",
   "execution_count": null,
   "metadata": {},
   "outputs": [],
   "source": [
    "# Purely translated robot\n",
    "x = [5,4,0]\n",
    "T_transl = gTl(x)\n",
    "T_transl"
   ]
  },
  {
   "cell_type": "code",
   "execution_count": null,
   "metadata": {},
   "outputs": [],
   "source": [
    "# plot\n",
    "Ts = [T_transl]\n",
    "plot_poses(Ts)"
   ]
  },
  {
   "cell_type": "markdown",
   "metadata": {},
   "source": [
    "<br/>\n",
    "<br/>\n",
    "\n",
    "Sometimes there is need to describe global frame wrt. local frame.  \n",
    "Imagine robot computing the way back home that is located in the origin of global frame.  \n",
    "\n",
    "<img src=\"./inverse.png\">\n",
    "\n",
    "This can be simply done by inverse transformation $$^lT_g = (^gT_l)^{-1}.$$\n",
    "\n",
    "### Task 2.\n",
    "This is a theoretical task. Obtain and write down the inverse transformation.\n",
    "Use the internal structure of the transformation matrix:\n",
    "$$^gT_l = \\begin{bmatrix} R & t \\\\ 0^\\top & 1 \\end{bmatrix},$$\n",
    "where the rotation matrix $R$ and displacement $t$ are known.\n",
    "\n",
    "_Trick: better to:_\n",
    "- do block multiplication of $^gT_l \\, ^lT_g  = I$:\n",
    "$$\\begin{bmatrix} R & t \\\\ 0^\\top & 1 \\end{bmatrix} \\cdot \\begin{bmatrix} M & a \\\\ 0^\\top & 1 \\end{bmatrix} = I$$\n",
    "- express unknown $M$ and $a$ through $R$ and $t$\n",
    "- assemble $T^{-1}$ by $M$ and $a$\n",
    "\n",
    "__$^gT_l^{-1}(R,t)$ must not have any matrix inverse inside!__"
   ]
  },
  {
   "cell_type": "markdown",
   "metadata": {},
   "source": [
    "_Your markdown here_"
   ]
  },
  {
   "cell_type": "markdown",
   "metadata": {},
   "source": [
    "<br/>\n",
    "<br/>\n",
    "<br/>\n",
    "\n",
    "__Use (b): to change the reference frame in which a vector or frame is represented;__  \n",
    "\n",
    "Suppose, the robot observes some landmark $p$ in position $^lp = \\begin{bmatrix} ^l x \\\\ ^l y \\\\ 1 \\end{bmatrix}$ of __robot's__ frame.  \n",
    "The robot must send global coordinates $^gp$ of $p$ to computational module that process global coordinates of landmarks and plots a map of landmarks. \n",
    "<img src=\"./vector.png\">\n",
    "\n",
    "### Task 3.A.\n",
    "\n",
    "Write down the formula to get $^gp$ with known $^lp$ and robot's pose $^gT_l$.  \n",
    "Provide numerical result for given $^lp$ and $^gT_l$."
   ]
  },
  {
   "cell_type": "code",
   "execution_count": null,
   "metadata": {},
   "outputs": [],
   "source": [
    "# Given data\n",
    "lp = [1.0, 1.3, 1]\n",
    "T = gTl([0.4, 0.5, 1.2])\n",
    "\n",
    "# Your code here\n"
   ]
  },
  {
   "cell_type": "markdown",
   "metadata": {},
   "source": [
    "__Use (c): to displace a vector or frame.__  \n",
    "\n",
    "Suppose, the robot has current pose $^gT_a$ wrt. global frame.  \n",
    "Then the robot updates its pose by $^aT_b$ and the updated state is $^gT_b$.\n",
    "<img src=\"./delta.png\">\n",
    "\n",
    "### Task 3.B.\n",
    "Obtain $^gT_b$ given pose $a$ and transformation from $a$ to $b$."
   ]
  },
  {
   "cell_type": "code",
   "execution_count": null,
   "metadata": {},
   "outputs": [],
   "source": [
    "state_a = [0.3,0.5,0]\n",
    "atob = [0.3, -0.4, -np.pi/6]"
   ]
  },
  {
   "cell_type": "code",
   "execution_count": null,
   "metadata": {},
   "outputs": [],
   "source": [
    "gTa = gTl(state_a)\n",
    "gTa"
   ]
  },
  {
   "cell_type": "code",
   "execution_count": null,
   "metadata": {},
   "outputs": [],
   "source": [
    "# plot\n",
    "Ts = [gTa]\n",
    "plot_poses(Ts)"
   ]
  },
  {
   "cell_type": "code",
   "execution_count": null,
   "metadata": {},
   "outputs": [],
   "source": [
    "aTb = gTl(atob)\n",
    "aTb"
   ]
  },
  {
   "cell_type": "code",
   "execution_count": null,
   "metadata": {},
   "outputs": [],
   "source": [
    "# Your code here\n",
    "gTb = \n",
    "gTb"
   ]
  },
  {
   "cell_type": "code",
   "execution_count": null,
   "metadata": {},
   "outputs": [],
   "source": [
    "# plot\n",
    "Ts = [gTa, gTb]\n",
    "plot_poses(Ts)"
   ]
  },
  {
   "cell_type": "markdown",
   "metadata": {},
   "source": [
    "In addition, uses (a), (b), (c) can be applied simultaneously due to identiacal mathematical description of them.  \n",
    "For instance, (b) and (c) are shown in the lecture 5."
   ]
  },
  {
   "cell_type": "code",
   "execution_count": null,
   "metadata": {},
   "outputs": [],
   "source": []
  }
 ],
 "metadata": {
  "kernelspec": {
   "display_name": "Python 3",
   "language": "python",
   "name": "python3"
  },
  "language_info": {
   "codemirror_mode": {
    "name": "ipython",
    "version": 3
   },
   "file_extension": ".py",
   "mimetype": "text/x-python",
   "name": "python",
   "nbconvert_exporter": "python",
   "pygments_lexer": "ipython3",
   "version": "3.8.3"
  }
 },
 "nbformat": 4,
 "nbformat_minor": 4
}
